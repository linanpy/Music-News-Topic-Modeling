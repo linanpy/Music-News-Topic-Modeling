{
 "cells": [
  {
   "cell_type": "code",
   "execution_count": 39,
   "metadata": {},
   "outputs": [],
   "source": [
    "import urllib.request\n",
    "import json\n",
    "import numpy as np\n",
    "import pandas as pd\n",
    "import time\n",
    "import re\n",
    "from nltk import word_tokenize\n",
    "from nltk.stem.porter import PorterStemmer\n",
    "from nltk.corpus import stopwords\n",
    "from nltk import FreqDist\n",
    "import requests\n",
    "from bs4 import BeautifulSoup\n",
    "import pickle"
   ]
  },
  {
   "cell_type": "markdown",
   "metadata": {},
   "source": [
    "## billboard"
   ]
  },
  {
   "cell_type": "code",
   "execution_count": 4,
   "metadata": {},
   "outputs": [],
   "source": [
    "# may 2019 - present\n",
    "response = requests.get(\"https://api.newsriver.io/v2/search?query=website.domainName%3Abillboard.com%20AND%20discoverDate%3A%20%5B2019-05-01%20TO%20*%5D&sortBy=discoverDate&sortOrder=DESC&limit=100\", \n",
    "    headers={\"Authorization\":\"YOUR API KEY\"})\n",
    "results_2019_1 = response.json()"
   ]
  },
  {
   "cell_type": "code",
   "execution_count": 5,
   "metadata": {},
   "outputs": [],
   "source": [
    "#feb - april 2019\n",
    "response1 = requests.get(\"https://api.newsriver.io/v2/search?query=website.domainName%3Abillboard.com%20AND%20discoverDate%3A%20%5B2019-02-01%20TO%202019-04-30%5D&sortBy=discoverDate&sortOrder=DESC&limit=100\", \n",
    "    headers={\"Authorization\":\"YOUR API KEY\"})\n",
    "results_2019_2 = response1.json()"
   ]
  },
  {
   "cell_type": "code",
   "execution_count": 6,
   "metadata": {},
   "outputs": [],
   "source": [
    "#jan 2019\n",
    "response2 = requests.get(\"https://api.newsriver.io/v2/search?query=website.domainName%3Abillboard.com%20AND%20discoverDate%3A%20%5B2019-01-01%20TO%202019-01-31%5D&sortBy=discoverDate&sortOrder=DESC&limit=100\", \n",
    "    headers={\"Authorization\":\"YOUR API KEY\"})\n",
    "results_2019_3 = response2.json()"
   ]
  },
  {
   "cell_type": "code",
   "execution_count": 7,
   "metadata": {},
   "outputs": [],
   "source": [
    "# everything in 2018\n",
    "response3 = requests.get(\"https://api.newsriver.io/v2/search?query=website.domainName%3Abillboard.com%20AND%20discoverDate%3A%20%5B2018-01-01%20TO%202018-12-31%5D&sortBy=discoverDate&sortOrder=DESC&limit=100\", headers={\"Authorization\":\"YOUR API KEY\"})\n",
    "results_2018_1 = response3.json()"
   ]
  },
  {
   "cell_type": "code",
   "execution_count": 19,
   "metadata": {},
   "outputs": [],
   "source": [
    "df_bb = pd.DataFrame(results_2019_1+results_2019_2+results_2019_3+results_2018_1)"
   ]
  },
  {
   "cell_type": "code",
   "execution_count": 21,
   "metadata": {},
   "outputs": [],
   "source": [
    "df_bb.to_pickle(\"./df_bb.pkl\")"
   ]
  },
  {
   "cell_type": "markdown",
   "metadata": {},
   "source": [
    "## digital music news"
   ]
  },
  {
   "cell_type": "code",
   "execution_count": 9,
   "metadata": {},
   "outputs": [],
   "source": [
    "response4 = requests.get(\"https://api.newsriver.io/v2/search?query=website.domainName%3Adigitalmusicnews.com%20AND%20discoverDate%3A%20%5B2018-01-01%20TO%20*%5D&sortBy=discoverDate&sortOrder=DESC&limit=100\", headers={\"Authorization\":\"YOUR API KEY\"})\n",
    "results_2018_2019 = response4.json()"
   ]
  },
  {
   "cell_type": "code",
   "execution_count": 22,
   "metadata": {},
   "outputs": [],
   "source": [
    "df_dmn = pd.DataFrame(results_2018_2019)"
   ]
  },
  {
   "cell_type": "code",
   "execution_count": 23,
   "metadata": {},
   "outputs": [],
   "source": [
    "df_dmn.to_pickle(\"./df_dmn.pkl\")"
   ]
  },
  {
   "cell_type": "markdown",
   "metadata": {},
   "source": [
    "## music business worldwide"
   ]
  },
  {
   "cell_type": "code",
   "execution_count": 10,
   "metadata": {},
   "outputs": [],
   "source": [
    "#everything in 2020\n",
    "response5 = requests.get(\"https://api.newsriver.io/v2/search?query=website.domainName%3Amusicbusinessworldwide.com%20AND%20discoverDate%3A%20%5B2020-02-15%20TO%20*%5D&sortBy=discoverDate&sortOrder=DESC&limit=100\", headers={\"Authorization\":\"YOUR API KEY\"})\n",
    "results_mbw_feb2 = response5.json()"
   ]
  },
  {
   "cell_type": "code",
   "execution_count": 11,
   "metadata": {},
   "outputs": [],
   "source": [
    "response6 = requests.get(\"https://api.newsriver.io/v2/search?query=website.domainName%3Amusicbusinessworldwide.com%20AND%20discoverDate%3A%20%5B2020-02-01%20TO%202020-02-14%5D&sortBy=discoverDate&sortOrder=DESC&limit=100\", headers={\"Authorization\":\"YOUR API KEY\"})\n",
    "results_mbw_feb1 = response6.json()"
   ]
  },
  {
   "cell_type": "code",
   "execution_count": 24,
   "metadata": {},
   "outputs": [],
   "source": [
    "df_mbw_2020 = pd.DataFrame(results_mbw_feb2+results_mbw_feb1)"
   ]
  },
  {
   "cell_type": "code",
   "execution_count": 25,
   "metadata": {},
   "outputs": [],
   "source": [
    "df_mbw_2020.to_pickle(\"./df_mbw_2020.pkl\")"
   ]
  },
  {
   "cell_type": "markdown",
   "metadata": {},
   "source": [
    "### define dates for all 2018&2019 posts"
   ]
  },
  {
   "cell_type": "code",
   "execution_count": 12,
   "metadata": {},
   "outputs": [],
   "source": [
    "begin_date = []\n",
    "for year in [\"2018\",\"2019\"]:\n",
    "    for month in [\"01\", \"02\", \"03\", \"04\", \"05\", \"06\", \"07\", \"08\", \"09\", \"10\", \"11\", \"12\"]:\n",
    "            date_range1 = (year + '-' + month + '-' \"01\")\n",
    "            begin_date.append(date_range1)\n",
    "    for month in [\"01\", \"02\", \"03\", \"04\", \"05\", \"06\", \"07\", \"08\", \"09\", \"10\", \"11\", \"12\"]:\n",
    "            date_range2 = (year + '-' + month + '-' + \"16\")\n",
    "            begin_date.append(date_range2)\n"
   ]
  },
  {
   "cell_type": "code",
   "execution_count": 13,
   "metadata": {},
   "outputs": [],
   "source": [
    "begin_date = sorted(begin_date)"
   ]
  },
  {
   "cell_type": "code",
   "execution_count": 14,
   "metadata": {},
   "outputs": [],
   "source": [
    "end_date = []\n",
    "for year in [\"2018\",\"2019\"]:\n",
    "    for month in [\"01\", \"02\", \"03\", \"04\", \"05\", \"06\", \"07\", \"08\", \"09\", \"10\", \"11\", \"12\"]:\n",
    "            date_range1 = (year + '-' + month + '-' \"15\")\n",
    "            end_date.append(date_range1)\n",
    "    for month in [\"01\", \"03\", \"05\", \"07\", \"08\", \"10\", \"12\"]:\n",
    "            date_range2 = (year + '-' + month + '-' \"31\")\n",
    "            end_date.append(date_range2)\n",
    "    for month in [\"02\"]:\n",
    "            date_range3 = (year + '-' + month + '-'  \"28\")\n",
    "            end_date.append(date_range3)\n",
    "    for month in [\"04\", \"06\", \"09\", \"11\"]:\n",
    "            date_range4 = (year + '-' + month + '-'  \"30\")\n",
    "            end_date.append(date_range4)"
   ]
  },
  {
   "cell_type": "code",
   "execution_count": 15,
   "metadata": {},
   "outputs": [],
   "source": [
    "end_date = sorted(end_date)"
   ]
  },
  {
   "cell_type": "code",
   "execution_count": 16,
   "metadata": {},
   "outputs": [],
   "source": [
    "all_dates = list(zip(begin_date, end_date))"
   ]
  },
  {
   "cell_type": "markdown",
   "metadata": {},
   "source": [
    "### getting articles from all these dates"
   ]
  },
  {
   "cell_type": "code",
   "execution_count": 17,
   "metadata": {},
   "outputs": [],
   "source": [
    "def get_articles(all_dates):\n",
    "    all_articles = []\n",
    "    for begin_date, end_date in all_dates:\n",
    "        url = \"https://api.newsriver.io/v2/search?query=website.domainName%3Amusicbusinessworldwide.com%20AND%20discoverDate%3A%20%5B\"+ str(begin_date) + \"%20TO%20\"+ str(end_date) + \"%5D&sortBy=discoverDate&sortOrder=DESC&limit=100\"\n",
    "        response = requests.get(url , headers={\"Authorization\":\"YOUR API KEY\"}) \n",
    "        results = response.json()\n",
    "        all_articles.append(results)\n",
    "    return all_articles"
   ]
  },
  {
   "cell_type": "code",
   "execution_count": 18,
   "metadata": {},
   "outputs": [],
   "source": [
    "data_mbw = get_articles(all_dates)"
   ]
  },
  {
   "cell_type": "code",
   "execution_count": 74,
   "metadata": {},
   "outputs": [],
   "source": [
    "articles = []\n",
    "for item in data_mbw:\n",
    "    if item != []:\n",
    "        for item in item:\n",
    "            articles.append(item)"
   ]
  },
  {
   "cell_type": "code",
   "execution_count": 75,
   "metadata": {},
   "outputs": [],
   "source": [
    "df_mbw_2019 =  pd.DataFrame(articles)"
   ]
  },
  {
   "cell_type": "code",
   "execution_count": 76,
   "metadata": {},
   "outputs": [
    {
     "name": "stdout",
     "output_type": "stream",
     "text": [
      "<class 'pandas.core.frame.DataFrame'>\n",
      "RangeIndex: 1820 entries, 0 to 1819\n",
      "Data columns (total 12 columns):\n",
      "id                1820 non-null object\n",
      "publishDate       1816 non-null object\n",
      "discoverDate      1820 non-null object\n",
      "title             1820 non-null object\n",
      "language          1820 non-null object\n",
      "text              1820 non-null object\n",
      "structuredText    1820 non-null object\n",
      "url               1820 non-null object\n",
      "elements          1820 non-null object\n",
      "website           1820 non-null object\n",
      "metadata          1820 non-null object\n",
      "score             1820 non-null float64\n",
      "dtypes: float64(1), object(11)\n",
      "memory usage: 170.8+ KB\n"
     ]
    }
   ],
   "source": [
    "df_mbw_2019.info()"
   ]
  },
  {
   "cell_type": "code",
   "execution_count": 77,
   "metadata": {},
   "outputs": [],
   "source": [
    "df_mbw_2019.to_pickle(\"./df_mbw_2019.pkl\")"
   ]
  }
 ],
 "metadata": {
  "kernelspec": {
   "display_name": "Python [conda env:metis] *",
   "language": "python",
   "name": "conda-env-metis-py"
  },
  "language_info": {
   "codemirror_mode": {
    "name": "ipython",
    "version": 3
   },
   "file_extension": ".py",
   "mimetype": "text/x-python",
   "name": "python",
   "nbconvert_exporter": "python",
   "pygments_lexer": "ipython3",
   "version": "3.7.4"
  }
 },
 "nbformat": 4,
 "nbformat_minor": 4
}
