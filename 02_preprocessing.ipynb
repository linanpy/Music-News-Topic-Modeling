{
 "cells": [
  {
   "cell_type": "code",
   "execution_count": 2,
   "metadata": {},
   "outputs": [],
   "source": [
    "import numpy as np\n",
    "import pandas as pd\n",
    "import time\n",
    "import re\n",
    "from nltk import word_tokenize\n",
    "from nltk.stem.porter import PorterStemmer\n",
    "from nltk.corpus import stopwords\n",
    "from nltk import FreqDist\n",
    "import requests\n",
    "from bs4 import BeautifulSoup\n",
    "import pickle"
   ]
  },
  {
   "cell_type": "markdown",
   "metadata": {},
   "source": [
    "### unpickling all dfs"
   ]
  },
  {
   "cell_type": "code",
   "execution_count": 3,
   "metadata": {},
   "outputs": [],
   "source": [
    "df_bb = pd.read_pickle(\"./df_bb.pkl\")\n",
    "df_dmn = pd.read_pickle(\"./df_dmn.pkl\")\n",
    "df_mbw_2020 = pd.read_pickle(\"./df_mbw_2020.pkl\")\n",
    "df_mbw_2019 = pd.read_pickle(\"./df_mbw_2019.pkl\")"
   ]
  },
  {
   "cell_type": "markdown",
   "metadata": {},
   "source": [
    "### combining articles from all sources "
   ]
  },
  {
   "cell_type": "code",
   "execution_count": 5,
   "metadata": {},
   "outputs": [],
   "source": [
    "all_music_news_df = pd.concat([df_bb, df_dmn, df_mbw_2020, df_mbw_2019], axis = 0)"
   ]
  },
  {
   "cell_type": "code",
   "execution_count": 6,
   "metadata": {
    "scrolled": true
   },
   "outputs": [
    {
     "name": "stdout",
     "output_type": "stream",
     "text": [
      "<class 'pandas.core.frame.DataFrame'>\n",
      "Int64Index: 2244 entries, 0 to 1819\n",
      "Data columns (total 12 columns):\n",
      "id                2244 non-null object\n",
      "publishDate       2009 non-null object\n",
      "discoverDate      2244 non-null object\n",
      "title             2244 non-null object\n",
      "language          2244 non-null object\n",
      "text              2244 non-null object\n",
      "structuredText    2244 non-null object\n",
      "url               2244 non-null object\n",
      "elements          2244 non-null object\n",
      "website           2244 non-null object\n",
      "metadata          2244 non-null object\n",
      "score             2244 non-null float64\n",
      "dtypes: float64(1), object(11)\n",
      "memory usage: 227.9+ KB\n"
     ]
    }
   ],
   "source": [
    "all_music_news_df.info()"
   ]
  },
  {
   "cell_type": "markdown",
   "metadata": {},
   "source": [
    "### data cleaning"
   ]
  },
  {
   "cell_type": "code",
   "execution_count": 7,
   "metadata": {},
   "outputs": [],
   "source": [
    "df = all_music_news_df"
   ]
  },
  {
   "cell_type": "code",
   "execution_count": 8,
   "metadata": {},
   "outputs": [],
   "source": [
    "df.drop(['id', 'publishDate', 'title', 'language', 'structuredText', 'url', 'elements', 'website', 'metadata', 'score'], inplace=True, axis = 1)"
   ]
  },
  {
   "cell_type": "code",
   "execution_count": 9,
   "metadata": {},
   "outputs": [
    {
     "name": "stdout",
     "output_type": "stream",
     "text": [
      "<class 'pandas.core.frame.DataFrame'>\n",
      "Int64Index: 2244 entries, 0 to 1819\n",
      "Data columns (total 2 columns):\n",
      "discoverDate    2244 non-null object\n",
      "text            2244 non-null object\n",
      "dtypes: object(2)\n",
      "memory usage: 52.6+ KB\n"
     ]
    }
   ],
   "source": [
    "df.info()"
   ]
  },
  {
   "cell_type": "code",
   "execution_count": 10,
   "metadata": {},
   "outputs": [
    {
     "data": {
      "text/html": [
       "<div>\n",
       "<style scoped>\n",
       "    .dataframe tbody tr th:only-of-type {\n",
       "        vertical-align: middle;\n",
       "    }\n",
       "\n",
       "    .dataframe tbody tr th {\n",
       "        vertical-align: top;\n",
       "    }\n",
       "\n",
       "    .dataframe thead th {\n",
       "        text-align: right;\n",
       "    }\n",
       "</style>\n",
       "<table border=\"1\" class=\"dataframe\">\n",
       "  <thead>\n",
       "    <tr style=\"text-align: right;\">\n",
       "      <th></th>\n",
       "      <th>discoverDate</th>\n",
       "      <th>text</th>\n",
       "    </tr>\n",
       "  </thead>\n",
       "  <tbody>\n",
       "    <tr>\n",
       "      <th>0</th>\n",
       "      <td>2020-02-28T18:24:00.966+0000</td>\n",
       "      <td>On a recent rainy night in Manhattan, Kelsea B...</td>\n",
       "    </tr>\n",
       "    <tr>\n",
       "      <th>1</th>\n",
       "      <td>2020-02-22T19:11:12.745+0000</td>\n",
       "      <td>Forget for a minute that the two men you thoug...</td>\n",
       "    </tr>\n",
       "    <tr>\n",
       "      <th>2</th>\n",
       "      <td>2020-02-19T23:22:46.545+0000</td>\n",
       "      <td>[Editors note: In this ongoing series, we expl...</td>\n",
       "    </tr>\n",
       "    <tr>\n",
       "      <th>3</th>\n",
       "      <td>2020-01-24T02:23:37.436+0000</td>\n",
       "      <td>As the music business continues to grow and ch...</td>\n",
       "    </tr>\n",
       "    <tr>\n",
       "      <th>4</th>\n",
       "      <td>2019-12-12T16:24:02.523+0000</td>\n",
       "      <td>Desiree Perez COO, Roc Nation On a typical day...</td>\n",
       "    </tr>\n",
       "  </tbody>\n",
       "</table>\n",
       "</div>"
      ],
      "text/plain": [
       "                   discoverDate  \\\n",
       "0  2020-02-28T18:24:00.966+0000   \n",
       "1  2020-02-22T19:11:12.745+0000   \n",
       "2  2020-02-19T23:22:46.545+0000   \n",
       "3  2020-01-24T02:23:37.436+0000   \n",
       "4  2019-12-12T16:24:02.523+0000   \n",
       "\n",
       "                                                text  \n",
       "0  On a recent rainy night in Manhattan, Kelsea B...  \n",
       "1  Forget for a minute that the two men you thoug...  \n",
       "2  [Editors note: In this ongoing series, we expl...  \n",
       "3  As the music business continues to grow and ch...  \n",
       "4  Desiree Perez COO, Roc Nation On a typical day...  "
      ]
     },
     "execution_count": 10,
     "metadata": {},
     "output_type": "execute_result"
    }
   ],
   "source": [
    "df.head()"
   ]
  },
  {
   "cell_type": "code",
   "execution_count": 11,
   "metadata": {},
   "outputs": [],
   "source": [
    "#pickling\n",
    "df.to_pickle(\"./all_news_cleaned.pkl\")"
   ]
  },
  {
   "cell_type": "markdown",
   "metadata": {},
   "source": [
    "### tokenization"
   ]
  },
  {
   "cell_type": "code",
   "execution_count": 12,
   "metadata": {},
   "outputs": [],
   "source": [
    "from sklearn.feature_extraction.text import CountVectorizer \n",
    "from sklearn.decomposition import TruncatedSVD\n",
    "from sklearn.decomposition import NMF\n",
    "from sklearn.metrics.pairwise import cosine_similarity\n",
    "from nltk.tokenize import word_tokenize\n",
    "import nltk"
   ]
  },
  {
   "cell_type": "code",
   "execution_count": 13,
   "metadata": {},
   "outputs": [],
   "source": [
    "#nltk.download('punkt')"
   ]
  },
  {
   "cell_type": "code",
   "execution_count": 14,
   "metadata": {},
   "outputs": [],
   "source": [
    "# gensim\n",
    "from gensim import corpora, models, similarities, matutils\n",
    "\n",
    "# sklearn\n",
    "from sklearn import datasets\n",
    "from sklearn.feature_extraction.text import CountVectorizer\n",
    "\n",
    "# logging for gensim (set to INFO)\n",
    "import logging\n",
    "logging.basicConfig(format='%(asctime)s : %(levelname)s : %(message)s', level=logging.INFO)"
   ]
  },
  {
   "cell_type": "code",
   "execution_count": 15,
   "metadata": {},
   "outputs": [],
   "source": [
    "# libraries for visualization\n",
    "import pyLDAvis\n",
    "import pyLDAvis.gensim\n",
    "import matplotlib.pyplot as plt\n",
    "import seaborn as sns\n",
    "%matplotlib inline"
   ]
  },
  {
   "cell_type": "code",
   "execution_count": 16,
   "metadata": {},
   "outputs": [],
   "source": [
    "#creating tokenization column\n",
    "df['tokenized'] = df.apply(lambda row: nltk.word_tokenize(row['text']), axis=1)"
   ]
  },
  {
   "cell_type": "code",
   "execution_count": 17,
   "metadata": {},
   "outputs": [],
   "source": [
    "#convert it from series to string\n",
    "df.tokenized = df.tokenized.astype(str)"
   ]
  },
  {
   "cell_type": "code",
   "execution_count": 18,
   "metadata": {},
   "outputs": [],
   "source": [
    "#make everything lowercase \n",
    "df['tokenized'] = df['tokenized'].str.lower()"
   ]
  },
  {
   "cell_type": "code",
   "execution_count": 19,
   "metadata": {},
   "outputs": [],
   "source": [
    "# remove unwanted characters, numbers and symbols\n",
    "df['tokenized'] = df['tokenized'].str.replace(\"[^a-zA-Z#]\", \" \")"
   ]
  },
  {
   "cell_type": "code",
   "execution_count": 20,
   "metadata": {},
   "outputs": [],
   "source": [
    "# function to plot most frequent terms\n",
    "def freq_words(x, terms = 30):\n",
    "  all_words = ' '.join([text for text in x])\n",
    "  all_words = all_words.split()\n",
    "\n",
    "  fdist = FreqDist(all_words)\n",
    "  words_df = pd.DataFrame({'word':list(fdist.keys()), 'count':list(fdist.values())})\n",
    "\n",
    "  # selecting top 20 most frequent words\n",
    "  d = words_df.nlargest(columns=\"count\", n = terms) \n",
    "  plt.figure(figsize=(20,5))\n",
    "  ax = sns.barplot(data=d, x= \"word\", y = \"count\")\n",
    "  ax.set(ylabel = 'Count')\n",
    "  plt.show()"
   ]
  },
  {
   "cell_type": "code",
   "execution_count": 21,
   "metadata": {},
   "outputs": [
    {
     "data": {
      "image/png": "[encoded data removed]",
      "text/plain": [
       "<Figure size 1440x360 with 1 Axes>"
      ]
     },
     "metadata": {
      "needs_background": "light"
     },
     "output_type": "display_data"
    }
   ],
   "source": [
    "#1st visualization \n",
    "#frequency visualization before removing stopwords, stemming and lammatization \n",
    "freq_words(df['tokenized'])"
   ]
  },
  {
   "cell_type": "markdown",
   "metadata": {},
   "source": [
    "### remove stopwords "
   ]
  },
  {
   "cell_type": "code",
   "execution_count": 22,
   "metadata": {},
   "outputs": [],
   "source": [
    "from nltk.corpus import stopwords\n",
    "other_words = ['music business worldwide', 'digital music news', 'billboard', 'mbw', 'said', 'says', 'artists', 'also', 'one', 'like', 'music', 'business', 'including']\n",
    "stop_words = stopwords.words('english') + other_words"
   ]
  },
  {
   "cell_type": "code",
   "execution_count": 23,
   "metadata": {},
   "outputs": [],
   "source": [
    "# function to remove stopwords\n",
    "def remove_stopwords(art):\n",
    "    art_new = \" \".join([i for i in art if i not in stop_words])\n",
    "    return art_new\n",
    "\n",
    "#remove short words (length < 3)\n",
    "df['tokenized'] = df['tokenized'].apply(lambda x: ' '.join([w for w in x.split() if len(w)>2]))\n",
    "\n",
    "# remove stopwords from the text\n",
    "df['tokenized'] = [remove_stopwords(r.split()) for r in df['tokenized']]"
   ]
  },
  {
   "cell_type": "code",
   "execution_count": 24,
   "metadata": {},
   "outputs": [
    {
     "data": {
      "image/png": "[encoded data removed]",
      "text/plain": [
       "<Figure size 1440x360 with 1 Axes>"
      ]
     },
     "metadata": {
      "needs_background": "light"
     },
     "output_type": "display_data"
    }
   ],
   "source": [
    "#top 20 words after stopwords removal\n",
    "freq_words(df['tokenized'], 20)"
   ]
  },
  {
   "cell_type": "code",
   "execution_count": 25,
   "metadata": {},
   "outputs": [],
   "source": [
    "#pickling tokenized df\n",
    "df.to_pickle(\"./tokenized.pkl\")"
   ]
  },
  {
   "cell_type": "code",
   "execution_count": 26,
   "metadata": {},
   "outputs": [
    {
     "data": {
      "text/html": [
       "<div>\n",
       "<style scoped>\n",
       "    .dataframe tbody tr th:only-of-type {\n",
       "        vertical-align: middle;\n",
       "    }\n",
       "\n",
       "    .dataframe tbody tr th {\n",
       "        vertical-align: top;\n",
       "    }\n",
       "\n",
       "    .dataframe thead th {\n",
       "        text-align: right;\n",
       "    }\n",
       "</style>\n",
       "<table border=\"1\" class=\"dataframe\">\n",
       "  <thead>\n",
       "    <tr style=\"text-align: right;\">\n",
       "      <th></th>\n",
       "      <th>discoverDate</th>\n",
       "      <th>text</th>\n",
       "      <th>tokenized</th>\n",
       "    </tr>\n",
       "  </thead>\n",
       "  <tbody>\n",
       "    <tr>\n",
       "      <th>0</th>\n",
       "      <td>2020-02-28T18:24:00.966+0000</td>\n",
       "      <td>On a recent rainy night in Manhattan, Kelsea B...</td>\n",
       "      <td>recent rainy night manhattan kelsea ballerini ...</td>\n",
       "    </tr>\n",
       "    <tr>\n",
       "      <th>1</th>\n",
       "      <td>2020-02-22T19:11:12.745+0000</td>\n",
       "      <td>Forget for a minute that the two men you thoug...</td>\n",
       "      <td>forget minute two men thought sang milli vanil...</td>\n",
       "    </tr>\n",
       "    <tr>\n",
       "      <th>2</th>\n",
       "      <td>2020-02-19T23:22:46.545+0000</td>\n",
       "      <td>[Editors note: In this ongoing series, we expl...</td>\n",
       "      <td>editors note ongoing series explore best buzzw...</td>\n",
       "    </tr>\n",
       "    <tr>\n",
       "      <th>3</th>\n",
       "      <td>2020-01-24T02:23:37.436+0000</td>\n",
       "      <td>As the music business continues to grow and ch...</td>\n",
       "      <td>continues grow change decided time annual powe...</td>\n",
       "    </tr>\n",
       "    <tr>\n",
       "      <th>4</th>\n",
       "      <td>2019-12-12T16:24:02.523+0000</td>\n",
       "      <td>Desiree Perez COO, Roc Nation On a typical day...</td>\n",
       "      <td>desiree perez coo roc nation typical day desir...</td>\n",
       "    </tr>\n",
       "  </tbody>\n",
       "</table>\n",
       "</div>"
      ],
      "text/plain": [
       "                   discoverDate  \\\n",
       "0  2020-02-28T18:24:00.966+0000   \n",
       "1  2020-02-22T19:11:12.745+0000   \n",
       "2  2020-02-19T23:22:46.545+0000   \n",
       "3  2020-01-24T02:23:37.436+0000   \n",
       "4  2019-12-12T16:24:02.523+0000   \n",
       "\n",
       "                                                text  \\\n",
       "0  On a recent rainy night in Manhattan, Kelsea B...   \n",
       "1  Forget for a minute that the two men you thoug...   \n",
       "2  [Editors note: In this ongoing series, we expl...   \n",
       "3  As the music business continues to grow and ch...   \n",
       "4  Desiree Perez COO, Roc Nation On a typical day...   \n",
       "\n",
       "                                           tokenized  \n",
       "0  recent rainy night manhattan kelsea ballerini ...  \n",
       "1  forget minute two men thought sang milli vanil...  \n",
       "2  editors note ongoing series explore best buzzw...  \n",
       "3  continues grow change decided time annual powe...  \n",
       "4  desiree perez coo roc nation typical day desir...  "
      ]
     },
     "execution_count": 26,
     "metadata": {},
     "output_type": "execute_result"
    }
   ],
   "source": [
    "df.head()"
   ]
  },
  {
   "cell_type": "markdown",
   "metadata": {},
   "source": [
    "### change date format"
   ]
  },
  {
   "cell_type": "code",
   "execution_count": 32,
   "metadata": {},
   "outputs": [],
   "source": [
    "ser1 = pd.Series(df['discoverDate']) \n",
    "new = df['discoverDate'].str.split(\"T\", n =1 , expand = True)\n",
    "df['date']= new[0]  "
   ]
  },
  {
   "cell_type": "code",
   "execution_count": 33,
   "metadata": {},
   "outputs": [],
   "source": [
    "df.drop(['discoverDate'], axis=1, inplace=True)"
   ]
  },
  {
   "cell_type": "code",
   "execution_count": 34,
   "metadata": {},
   "outputs": [
    {
     "data": {
      "text/html": [
       "<div>\n",
       "<style scoped>\n",
       "    .dataframe tbody tr th:only-of-type {\n",
       "        vertical-align: middle;\n",
       "    }\n",
       "\n",
       "    .dataframe tbody tr th {\n",
       "        vertical-align: top;\n",
       "    }\n",
       "\n",
       "    .dataframe thead th {\n",
       "        text-align: right;\n",
       "    }\n",
       "</style>\n",
       "<table border=\"1\" class=\"dataframe\">\n",
       "  <thead>\n",
       "    <tr style=\"text-align: right;\">\n",
       "      <th></th>\n",
       "      <th>text</th>\n",
       "      <th>tokenized</th>\n",
       "      <th>date</th>\n",
       "    </tr>\n",
       "  </thead>\n",
       "  <tbody>\n",
       "    <tr>\n",
       "      <th>0</th>\n",
       "      <td>On a recent rainy night in Manhattan, Kelsea B...</td>\n",
       "      <td>recent rainy night manhattan kelsea ballerini ...</td>\n",
       "      <td>2020-02-28</td>\n",
       "    </tr>\n",
       "    <tr>\n",
       "      <th>1</th>\n",
       "      <td>Forget for a minute that the two men you thoug...</td>\n",
       "      <td>forget minute two men thought sang milli vanil...</td>\n",
       "      <td>2020-02-22</td>\n",
       "    </tr>\n",
       "    <tr>\n",
       "      <th>2</th>\n",
       "      <td>[Editors note: In this ongoing series, we expl...</td>\n",
       "      <td>editors note ongoing series explore best buzzw...</td>\n",
       "      <td>2020-02-19</td>\n",
       "    </tr>\n",
       "    <tr>\n",
       "      <th>3</th>\n",
       "      <td>As the music business continues to grow and ch...</td>\n",
       "      <td>continues grow change decided time annual powe...</td>\n",
       "      <td>2020-01-24</td>\n",
       "    </tr>\n",
       "    <tr>\n",
       "      <th>4</th>\n",
       "      <td>Desiree Perez COO, Roc Nation On a typical day...</td>\n",
       "      <td>desiree perez coo roc nation typical day desir...</td>\n",
       "      <td>2019-12-12</td>\n",
       "    </tr>\n",
       "  </tbody>\n",
       "</table>\n",
       "</div>"
      ],
      "text/plain": [
       "                                                text  \\\n",
       "0  On a recent rainy night in Manhattan, Kelsea B...   \n",
       "1  Forget for a minute that the two men you thoug...   \n",
       "2  [Editors note: In this ongoing series, we expl...   \n",
       "3  As the music business continues to grow and ch...   \n",
       "4  Desiree Perez COO, Roc Nation On a typical day...   \n",
       "\n",
       "                                           tokenized        date  \n",
       "0  recent rainy night manhattan kelsea ballerini ...  2020-02-28  \n",
       "1  forget minute two men thought sang milli vanil...  2020-02-22  \n",
       "2  editors note ongoing series explore best buzzw...  2020-02-19  \n",
       "3  continues grow change decided time annual powe...  2020-01-24  \n",
       "4  desiree perez coo roc nation typical day desir...  2019-12-12  "
      ]
     },
     "execution_count": 34,
     "metadata": {},
     "output_type": "execute_result"
    }
   ],
   "source": [
    "df.head()"
   ]
  },
  {
   "cell_type": "code",
   "execution_count": 36,
   "metadata": {},
   "outputs": [],
   "source": [
    "df = df[['date','tokenized']]"
   ]
  },
  {
   "cell_type": "code",
   "execution_count": 37,
   "metadata": {},
   "outputs": [],
   "source": [
    "#pickling\n",
    "df.to_pickle(\"./preprocessed.pkl\")"
   ]
  }
 ],
 "metadata": {
  "kernelspec": {
   "display_name": "Python [conda env:metis] *",
   "language": "python",
   "name": "conda-env-metis-py"
  },
  "language_info": {
   "codemirror_mode": {
    "name": "ipython",
    "version": 3
   },
   "file_extension": ".py",
   "mimetype": "text/x-python",
   "name": "python",
   "nbconvert_exporter": "python",
   "pygments_lexer": "ipython3",
   "version": "3.7.4"
  }
 },
 "nbformat": 4,
 "nbformat_minor": 4
}
